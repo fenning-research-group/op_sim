{
 "cells": [
  {
   "cell_type": "code",
   "execution_count": 22,
   "metadata": {},
   "outputs": [],
   "source": [
    "import logging\n",
    "logging.getLogger(\"pvtrace\").setLevel(logging.CRITICAL)\n",
    "logging.getLogger(\"trimesh\").setLevel(logging.CRITICAL)\n",
    "logging.getLogger(\"matplotlib\").setLevel(logging.CRITICAL)\n",
    "import time\n",
    "import numpy as np\n",
    "import functools\n",
    "import matplotlib\n",
    "import matplotlib.pyplot as plt\n",
    "%matplotlib inline\n",
    "from pvtrace import *"
   ]
  },
  {
   "cell_type": "markdown",
   "metadata": {},
   "source": [
    "# Nodes\n",
    "\n",
    "To position scene objects in useful places you need to `Node` objects.\n",
    "\n",
    "They have `translate(dx, dy, dz)` and `rotate(angle, axis)` method which apply to the current pose.\n",
    "\n",
    "Let's place the glass box so that the centre is at (1, 1, 1)."
   ]
  },
  {
   "cell_type": "code",
   "execution_count": 23,
   "metadata": {},
   "outputs": [
    {
     "name": "stdout",
     "output_type": "stream",
     "text": [
      "You can open the visualizer by visiting the following URL:\n",
      "http://127.0.0.1:7032/static/\n"
     ]
    },
    {
     "data": {
      "text/html": [
       "\n",
       "<div style=\"height: 400px; width: 600px; overflow-x: auto; overflow-y: hidden; resize: both\">\n",
       "<iframe src=\"http://127.0.0.1:7032/static/\" style=\"width: 100%; height: 100%; border: none\"></iframe>\n",
       "</div>\n"
      ],
      "text/plain": [
       "<IPython.core.display.HTML object>"
      ]
     },
     "execution_count": 23,
     "metadata": {},
     "output_type": "execute_result"
    }
   ],
   "source": [
    "world = Node(\n",
    "    name=\"world (air)\",\n",
    "    geometry=Sphere(\n",
    "        radius=10.0,\n",
    "        material=Material(refractive_index=1.0)\n",
    "    )\n",
    ")\n",
    "box = Node(\n",
    "    name=\"box (glass)\",\n",
    "    geometry=Box(\n",
    "        size=(1,1,1),\n",
    "        material=Material(refractive_index=1.5)\n",
    "    ),\n",
    "    parent=world\n",
    ")\n",
    "box.translate((1, 1, 1))\n",
    "box.rotate(np.radians(45), (1, 0, 1))\n",
    "scene = Scene(world)\n",
    "vis = MeshcatRenderer(wireframe=True)\n",
    "vis.render(scene)\n",
    "vis.vis.jupyter_cell()"
   ]
  },
  {
   "cell_type": "markdown",
   "metadata": {},
   "source": [
    "Add some widgets for changing the box's location. The sliders change the location tuple of the box node."
   ]
  },
  {
   "cell_type": "code",
   "execution_count": 24,
   "metadata": {},
   "outputs": [
    {
     "data": {
      "application/vnd.jupyter.widget-view+json": {
       "model_id": "00e3f8f9fd5040f1a00ae21d76d9c1b9",
       "version_major": 2,
       "version_minor": 0
      },
      "text/plain": [
       "interactive(children=(FloatSlider(value=0.0, description='x', max=5.0, min=-5.0), FloatSlider(value=0.0, descr…"
      ]
     },
     "metadata": {},
     "output_type": "display_data"
    },
    {
     "data": {
      "text/html": [
       "\n",
       "<div style=\"height: 400px; width: 600px; overflow-x: auto; overflow-y: hidden; resize: both\">\n",
       "<iframe src=\"http://127.0.0.1:7032/static/\" style=\"width: 100%; height: 100%; border: none\"></iframe>\n",
       "</div>\n"
      ],
      "text/plain": [
       "<IPython.core.display.HTML object>"
      ]
     },
     "execution_count": 24,
     "metadata": {},
     "output_type": "execute_result"
    }
   ],
   "source": [
    "from ipywidgets import interact\n",
    "import ipywidgets as widgets\n",
    "\n",
    "def update_box_position(x, y, z):\n",
    "    box.location = (x, y, z)\n",
    "    vis.update_transform(box)\n",
    "\n",
    "interact(\n",
    "    update_box_position,\n",
    "    x=widgets.FloatSlider(min=-5,max=5,step=0.1,value=0),\n",
    "    y=widgets.FloatSlider(min=-5,max=5,step=0.1,value=0),\n",
    "    z=widgets.FloatSlider(min=-5,max=5,step=0.1,value=0),\n",
    ")\n",
    "vis.vis.jupyter_cell()"
   ]
  },
  {
   "cell_type": "markdown",
   "metadata": {},
   "source": [
    "## Set location in scene\n",
    "\n",
    "The above sliders are using the box `location` property to set the location of the box in the scene. Here we also need to call the visualisers `update_transform` method to tell it about the change."
   ]
  },
  {
   "cell_type": "code",
   "execution_count": 25,
   "metadata": {},
   "outputs": [],
   "source": [
    "box.location = (-2, 0.0, 0.5)\n",
    "vis.update_transform(box)  # tell the renderer is need to re-draw"
   ]
  },
  {
   "cell_type": "markdown",
   "metadata": {},
   "source": [
    "## Nested nodes\n",
    "\n",
    "An important concept in *pvtrace* is that nodes are nestable and the parent transformation applies defines the childs coordinate system."
   ]
  },
  {
   "cell_type": "code",
   "execution_count": 27,
   "metadata": {},
   "outputs": [
    {
     "name": "stdout",
     "output_type": "stream",
     "text": [
      "You can open the visualizer by visiting the following URL:\n",
      "http://127.0.0.1:7037/static/\n"
     ]
    },
    {
     "data": {
      "text/html": [
       "\n",
       "<div style=\"height: 400px; width: 600px; overflow-x: auto; overflow-y: hidden; resize: both\">\n",
       "<iframe src=\"http://127.0.0.1:7037/static/\" style=\"width: 100%; height: 100%; border: none\"></iframe>\n",
       "</div>\n"
      ],
      "text/plain": [
       "<IPython.core.display.HTML object>"
      ]
     },
     "execution_count": 27,
     "metadata": {},
     "output_type": "execute_result"
    }
   ],
   "source": [
    "world = Node(\n",
    "    name=\"world (air)\",\n",
    "    geometry=Sphere(\n",
    "        radius=10.0,\n",
    "        material=Material(refractive_index=1.0)\n",
    "    )\n",
    ")\n",
    "group = Node(\n",
    "    name=\"group\",\n",
    "    parent=world\n",
    ")\n",
    "box1 = Node(\n",
    "    name=\"box 1(glass)\",\n",
    "    geometry=Box(\n",
    "        size=(1,1,1),\n",
    "        material=Material(refractive_index=1.5)\n",
    "    ),\n",
    "    parent=group\n",
    ")\n",
    "box2 = Node(\n",
    "    name=\"box 2 (glass)\",\n",
    "    geometry=Box(\n",
    "        size=(1,1,1),\n",
    "        material=Material(refractive_index=1.0)\n",
    "    ),\n",
    "    parent=group\n",
    ")\n",
    "box3 = Node(\n",
    "    name=\"box 3 (glass)\",\n",
    "    geometry=Box(\n",
    "        size=(1,1,1),\n",
    "        material=Material(refractive_index=1.0)\n",
    "    ),\n",
    "    parent=group\n",
    ")\n",
    "\n",
    "# Customise location and orientation\n",
    "box1.location = (-1, 1, 0)\n",
    "box2.location = (-2, 2, 1)\n",
    "box3.location = (-3, 3, 2)\n",
    "group.rotate(np.radians(25), (1, 0, 0))  # applying the rotation to the whole group\n",
    "scene = Scene(world)\n",
    "vis = MeshcatRenderer(wireframe=True)\n",
    "vis.render(scene)\n",
    "vis.vis.jupyter_cell()"
   ]
  },
  {
   "cell_type": "code",
   "execution_count": null,
   "metadata": {},
   "outputs": [],
   "source": []
  }
 ],
 "metadata": {
  "kernelspec": {
   "display_name": "Python 3",
   "language": "python",
   "name": "python3"
  },
  "language_info": {
   "codemirror_mode": {
    "name": "ipython",
    "version": 3
   },
   "file_extension": ".py",
   "mimetype": "text/x-python",
   "name": "python",
   "nbconvert_exporter": "python",
   "pygments_lexer": "ipython3",
   "version": "3.7.2"
  }
 },
 "nbformat": 4,
 "nbformat_minor": 2
}
