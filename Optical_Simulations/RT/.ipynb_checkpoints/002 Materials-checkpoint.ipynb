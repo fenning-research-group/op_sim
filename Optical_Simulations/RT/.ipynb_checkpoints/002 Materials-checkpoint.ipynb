{
 "cells": [
  {
   "cell_type": "code",
   "execution_count": 3,
   "metadata": {},
   "outputs": [],
   "source": [
    "import logging\n",
    "logging.getLogger('trimesh').disabled = True\n",
    "logging.getLogger('shapely.geos').disabled = True\n",
    "logging.getLogger('matplotlib').setLevel(logging.CRITICAL)\n",
    "import numpy as np\n",
    "import matplotlib.pyplot as plt\n",
    "%matplotlib inline\n",
    "from pvtrace import *"
   ]
  },
  {
   "cell_type": "markdown",
   "metadata": {},
   "source": [
    "# Materials\n",
    "\n",
    "In *pvtrace* material must have a refractive index,\n",
    "\n",
    "```python\n",
    "air = Material(refractive_index=1.0)\n",
    "plastic = Material(refractive_index=1.5)\n",
    "```\n",
    "\n",
    "Multiple **components** can be added to materials to change the optical properties of the *volume*.\n",
    "\n",
    "There are three components types available: absorber, scatterer, luminophore.\n",
    "\n",
    "#### Absorber\n",
    "\n",
    "The `Absorber` uses the Beer-Lambert law, $I = I_o e^{-\\alpha x}$ to determine the propability that rays are non-radiatively absorbed as they travel along a path. Here the `coefficient` parameter it the absorption coefficient per unit length $\\alpha$.\n",
    "\n",
    "```python\n",
    "opaque = Material(\n",
    "    refractive_index=1.5\n",
    "    components=[\n",
    "        Absorber(coefficient=10.0)  # cm-1\n",
    "    ]\n",
    ")\n",
    "```\n",
    "\n",
    "The `components` attribute is a `list` of optical properties within the materials volume, such as absorption of light using the `Absorber` component type.\n",
    "\n",
    "#### Scatterer\n",
    "\n",
    "Change to `Scatterer` for a material which volume scatters light,\n",
    "\n",
    "```python\n",
    "opaque = Material(\n",
    "    refractive_index=1.5\n",
    "    components=[\n",
    "        Scatterer(\n",
    "            coefficient=1.0,  # e.g. units: cm-1\n",
    "            quantum_yield=1.0\n",
    "       )\n",
    "    ]\n",
    ")\n",
    "```\n",
    "\n",
    "The scattering coefficient is per unit length. To make scattering events non-radiative using the `quantum_yield` keyword. Scattering is assumed to be `isotropic`, change the phase function for different behaviour,\n",
    "\n",
    "```python\n",
    "opaque = Material(\n",
    "    refractive_index=1.5\n",
    "    components=[\n",
    "        Scatterer(\n",
    "            coefficient=1.0, # cm-1\n",
    "            quantum_yield=1.0,\n",
    "            phase_function=lambda : henyey_greenstein(g=0.8),\n",
    "        )  \n",
    "    ]\n",
    ")\n",
    "```\n",
    "\n",
    "Henyey-Greenstein is a useful one-parameter phase function which moves between favoring back scattering (g < 0.0), isotropic (g = 0.0) and forward scattering (g > 0.0).\n",
    "\n",
    "\n",
    "#### Luminophore\n",
    "\n",
    "*pvtrace* trace was originally designed for the study of luminescent solar concentrators, in which organic dyes or nanocrystals (luminophores) are embedded in plastic sheets. They absorb rays and (possibly) remit them at longer wavelength. To use the `Lumiophore` component you will need to provide an absorption and emission spectrum.\n",
    "\n",
    "\n",
    "```python\n",
    "\n",
    "# Arrays of data\n",
    "absorption_spectrum = ...  # like np.column_stack((x, y)), spectrum cm-1 nm-1\n",
    "emission_spectrum = ...  # as above, spectrum nm-1\n",
    "\n",
    "opaque = Material(\n",
    "    refractive_index=1.5\n",
    "    components=[\n",
    "        Luminophore(\n",
    "            coefficient=absorption_spectrum,\n",
    "            emission=emission_spectrum,\n",
    "            quantum_yield=1.0\n",
    "            phase_function=isotropic  # can also have phase functions\n",
    "        )\n",
    "    ]\n",
    ")\n",
    "```\n",
    "\n",
    "---\n",
    "**Units**\n",
    "\n",
    "*pvtrace* does *not* assume units, they could be metres, kilometres or lightyears. But you **must** pick one. Define absorption and scattering coefficient as inverses of the same unit that defines the dimensions of objects in the scene. For example, if the scene is defined in units of $\\textit{cm}$ then attenuation coefficients should be $\\textit{cm}^{\\textit{-1}}$.\n",
    "\n",
    "**Using experimental data**\n",
    "\n",
    "Don't use experimental absorption coefficient data directly with *pvtrace*. For best results fit an equation to the long wavelength tail of the absorption and use a combination of real data (at short wavelength) and the fit (at long wavelengths).\n",
    "\n",
    "---"
   ]
  },
  {
   "cell_type": "markdown",
   "metadata": {},
   "source": [
    "## Example with luminescent materials\n",
    "\n",
    "*pvtrace* comes with a default spectrum of the dye Lumogen F Red,\n",
    "\n",
    "```python\n",
    "from pvtrace.data import lumogen_f_red_305\n",
    "```\n",
    "\n",
    "Use the `absorption` and `emission` functions,\n"
   ]
  },
  {
   "cell_type": "code",
   "execution_count": 7,
   "metadata": {},
   "outputs": [
    {
     "data": {
      "image/png": "[encoded data removed]",
      "text/plain": [
       "<Figure size 432x288 with 1 Axes>"
      ]
     },
     "metadata": {
      "needs_background": "light"
     },
     "output_type": "display_data"
    }
   ],
   "source": [
    "x = np.linspace(200, 800, 200)  # wavelength, units: nm\n",
    "absorption_spectrum = lumogen_f_red_305.absorption(x)  # units: nm-1\n",
    "emission_spectrum = lumogen_f_red_305.emission(x)      # units: nm-1\n",
    "plt.plot(x, absorption_spectrum, label=\"Abs (arb.)\")\n",
    "plt.plot(x, emission_spectrum, label=\"Ems (arb.)\")\n",
    "plt.xlabel(\"Wavelength (nm)\")\n",
    "plt.legend()\n",
    "plt.grid(linestyle=\"dotted\")"
   ]
  },
  {
   "cell_type": "markdown",
   "metadata": {},
   "source": [
    "The absorption spectrum is normalised to one so that it is easy to convert to unit you wish. Let's say units of length is now in centimetres as we construct the scene."
   ]
  },
  {
   "cell_type": "code",
   "execution_count": 30,
   "metadata": {},
   "outputs": [
    {
     "name": "stdout",
     "output_type": "stream",
     "text": [
      "You can open the visualizer by visiting the following URL:\n",
      "http://127.0.0.1:7016/static/\n"
     ]
    },
    {
     "data": {
      "text/html": [
       "\n",
       "<div style=\"height: 400px; width: 600px; overflow-x: auto; overflow-y: hidden; resize: both\">\n",
       "<iframe src=\"http://127.0.0.1:7016/static/\" style=\"width: 100%; height: 100%; border: none\"></iframe>\n",
       "</div>\n"
      ],
      "text/plain": [
       "<IPython.core.display.HTML object>"
      ]
     },
     "execution_count": 30,
     "metadata": {},
     "output_type": "execute_result"
    }
   ],
   "source": [
    "world = Node(\n",
    "    name=\"world (air)\",\n",
    "    geometry=Sphere(\n",
    "        radius=10.0,\n",
    "        material=Material(refractive_index=1.0)\n",
    "    )\n",
    ")\n",
    "\n",
    "sphere = Node(\n",
    "    name=\"sphere (glass)\",\n",
    "    geometry=Sphere(\n",
    "        radius=1.0,\n",
    "        material=Material(\n",
    "            refractive_index=1.5,\n",
    "            components=[\n",
    "                Luminophore(\n",
    "                    coefficient=np.column_stack((x, absorption_spectrum)),\n",
    "                    emission=np.column_stack((x, emission_spectrum)),\n",
    "                    quantum_yield=1.0,\n",
    "                    phase_function=isotropic\n",
    "                ),\n",
    "                Absorber(coefficient=0.1)\n",
    "            ]\n",
    "        ),\n",
    "    ),\n",
    "    parent=world\n",
    ")\n",
    "ray = Ray(\n",
    "    position=(-1.0, 0.0, 0.9),\n",
    "    direction=(1.0, 0.0, 0.0),\n",
    "    wavelength=555.0\n",
    ")\n",
    "scene = Scene(world)\n",
    "np.random.seed(0)\n",
    "vis = MeshcatRenderer(wireframe=True)\n",
    "vis.render(scene)\n",
    "for _ in range(10):\n",
    "    steps = photon_tracer.follow(scene, ray)\n",
    "    path, decisions = zip(*steps)\n",
    "    vis.add_ray_path(path)\n",
    "vis.vis.jupyter_cell()"
   ]
  },
  {
   "cell_type": "markdown",
   "metadata": {},
   "source": [
    "Multiple components can be added simultaneously,\n",
    "\n",
    "```python\n",
    "components=[\n",
    "    Luminophore(\n",
    "        coefficient=np.column_stack((x, absorption_spectrum)),\n",
    "        emission=np.column_stack((x, emission_spectrum)),\n",
    "        quantum_yield=1.0,\n",
    "        phase_function=isotropic\n",
    "    ),\n",
    "    Absorber(coefficient=0.1)\n",
    "]\n",
    "```\n",
    "\n",
    "this material simulates and radiative and non-radiative absorption. For example, non-radiative absorption occurs in the host material of glass of PMMA. Non-radiative absorption by the luminophore itself can be include by reducing the `quantum_yield` keyword."
   ]
  },
  {
   "cell_type": "markdown",
   "metadata": {},
   "source": [
    "What happened above:\n",
    "\n",
    "* The green ray enters the luminophore sphere. One ray refracts as it exists, unabsorbed (it still remains green).\n",
    "\n",
    "* Other rays are absorbed an remitted at longer (orange) wavelengths and eventually escape.\n",
    "\n",
    "* One ray is emitted into a trapped optical mode (red)."
   ]
  }
 ],
 "metadata": {
  "kernelspec": {
   "display_name": "Python 3",
   "language": "python",
   "name": "python3"
  },
  "language_info": {
   "codemirror_mode": {
    "name": "ipython",
    "version": 3
   },
   "file_extension": ".py",
   "mimetype": "text/x-python",
   "name": "python",
   "nbconvert_exporter": "python",
   "pygments_lexer": "ipython3",
   "version": "3.7.2"
  }
 },
 "nbformat": 4,
 "nbformat_minor": 2
}
