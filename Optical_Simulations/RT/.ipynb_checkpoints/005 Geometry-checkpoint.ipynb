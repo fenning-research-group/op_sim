{
 "cells": [
  {
   "cell_type": "markdown",
   "metadata": {},
   "source": [
    "# Geometry\n",
    "\n",
    "This notebook demonstrates the different geometry objects available in pvtrace.\n",
    "\n",
    "## Sphere\n",
    "\n",
    "A sphere defined by a radius.\n",
    "\n",
    "## Cylinder\n",
    "\n",
    "A cylinder with end caps defined by a radius and a length.\n",
    "\n",
    "## Box\n",
    "\n",
    "A box defined by length of the sides.\n",
    "\n",
    "## Mesh\n",
    "\n",
    "Any arbitrary mesh can be loaded into pvtrace and traced. However the mesh must be closed for the ray tracing algorithms to work."
   ]
  },
  {
   "cell_type": "code",
   "execution_count": 3,
   "metadata": {},
   "outputs": [
    {
     "name": "stdout",
     "output_type": "stream",
     "text": [
      "You can open the visualizer by visiting the following URL:\n",
      "http://127.0.0.1:7036/static/\n"
     ]
    },
    {
     "data": {
      "text/html": [
       "\n",
       "<div style=\"height: 400px; width: 600px; overflow-x: auto; overflow-y: hidden; resize: both\">\n",
       "<iframe src=\"http://127.0.0.1:7036/static/\" style=\"width: 100%; height: 100%; border: none\"></iframe>\n",
       "</div>\n"
      ],
      "text/plain": [
       "<IPython.core.display.HTML object>"
      ]
     },
     "execution_count": 3,
     "metadata": {},
     "output_type": "execute_result"
    }
   ],
   "source": [
    "import logging\n",
    "logging.getLogger('pvtrace').setLevel(logging.CRITICAL)\n",
    "logging.getLogger('trimesh').setLevel(logging.CRITICAL)\n",
    "from pvtrace import *\n",
    "import trimesh\n",
    "\n",
    "\n",
    "# always need a world node\n",
    "world = Node(\n",
    "    name=\"world\",\n",
    "    geometry=Sphere(\n",
    "        radius=100.0\n",
    "    ),\n",
    ")\n",
    "\n",
    "# Sphere\n",
    "sphere = Node(\n",
    "    name=\"sphere\",\n",
    "    geometry=Sphere(\n",
    "        radius=0.5\n",
    "    ),\n",
    "    parent=world\n",
    ")\n",
    "sphere.translate((0.0, -1.5, 0.5))\n",
    "\n",
    "# Box\n",
    "box = Node(\n",
    "    name=\"box\",\n",
    "    geometry=Box(\n",
    "        (1.0, 1.0, 1.0)\n",
    "    ),\n",
    "    parent=world\n",
    ")\n",
    "box.translate((0.0, 0.0, 0.5))\n",
    "\n",
    "# Cylinder\n",
    "cylinder = Node(\n",
    "    name=\"cylinder\",\n",
    "    geometry=Cylinder(\n",
    "        1.0, 0.5\n",
    "    ),\n",
    "    parent=world\n",
    ")\n",
    "cylinder.translate((0.0, 1.5, 0.5))\n",
    "\n",
    "# Mesh\n",
    "mesh = Node(\n",
    "    name=\"mesh (icosahedron)\",\n",
    "    geometry=Mesh(\n",
    "        trimesh=trimesh.creation.icosahedron()\n",
    "    ),\n",
    "    parent=world\n",
    ")\n",
    "mesh.translate((0.0, 3.5, 1.0))\n",
    "scene = Scene(world)\n",
    "vis = MeshcatRenderer(wireframe=True)\n",
    "vis.render(scene)\n",
    "vis.vis.jupyter_cell()"
   ]
  },
  {
   "cell_type": "code",
   "execution_count": null,
   "metadata": {},
   "outputs": [],
   "source": []
  }
 ],
 "metadata": {
  "kernelspec": {
   "display_name": "Python 3",
   "language": "python",
   "name": "python3"
  },
  "language_info": {
   "codemirror_mode": {
    "name": "ipython",
    "version": 3
   },
   "file_extension": ".py",
   "mimetype": "text/x-python",
   "name": "python",
   "nbconvert_exporter": "python",
   "pygments_lexer": "ipython3",
   "version": "3.7.2"
  }
 },
 "nbformat": 4,
 "nbformat_minor": 2
}
