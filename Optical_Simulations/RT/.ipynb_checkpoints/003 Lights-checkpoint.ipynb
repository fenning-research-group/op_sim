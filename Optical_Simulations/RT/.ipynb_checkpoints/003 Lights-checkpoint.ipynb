{
 "cells": [
  {
   "cell_type": "code",
   "execution_count": 1,
   "metadata": {},
   "outputs": [],
   "source": [
    "import logging\n",
    "logging.getLogger('trimesh').disabled = True\n",
    "logging.getLogger('shapely.geos').disabled = True\n",
    "logging.getLogger('matplotlib').setLevel(logging.CRITICAL)\n",
    "import functools\n",
    "import numpy as np\n",
    "import matplotlib.pyplot as plt\n",
    "%matplotlib inline\n",
    "from pvtrace import *"
   ]
  },
  {
   "cell_type": "markdown",
   "metadata": {},
   "source": [
    "# Light sources\n",
    "\n",
    "Light sources are **generators** of rays. They are useful to sample spatial, angular or spectral properties of rays automatically."
   ]
  },
  {
   "cell_type": "markdown",
   "metadata": {},
   "source": [
    "Make a default light object (with no arguments) emits rays as:\n",
    " * vertically, direction = (0, 0, 1)\n",
    " * from origin, position = (0, 0, 0)\n",
    " * wavelength = 555nm\n",
    " \n",
    "this is somewhat similar to a laser."
   ]
  },
  {
   "cell_type": "code",
   "execution_count": 2,
   "metadata": {},
   "outputs": [
    {
     "data": {
      "text/plain": [
       "[Ray(pos=(0.00, 0.00, 0.00), dir=(0.00, 0.00, 1.00), nm=555.00, alive=True)]"
      ]
     },
     "execution_count": 2,
     "metadata": {},
     "output_type": "execute_result"
    }
   ],
   "source": [
    "light = Light()\n",
    "list(light.emit(1))"
   ]
  },
  {
   "cell_type": "markdown",
   "metadata": {},
   "source": [
    "Note that the `emit` method is a Python generator so to get out the value it needs to be iterated."
   ]
  },
  {
   "cell_type": "markdown",
   "metadata": {},
   "source": [
    "## Sampling directions\n",
    "\n",
    "Supply a `phase_function` to sample angular ranges,\n",
    "\n",
    "```python\n",
    "Light(direction=isotropic)\n",
    "Light(direction=lambertian)\n",
    "```\n",
    "\n",
    "Some phase functions takes arguments, such as `cone(half_angle)`,\n",
    "\n",
    "```python\n",
    "Light(direction=functools.partial(cone, np.pi/8))\n",
    "```"
   ]
  },
  {
   "cell_type": "code",
   "execution_count": 3,
   "metadata": {},
   "outputs": [
    {
     "name": "stdout",
     "output_type": "stream",
     "text": [
      "You can open the visualizer by visiting the following URL:\n",
      "http://127.0.0.1:7017/static/\n"
     ]
    },
    {
     "data": {
      "text/html": [
       "\n",
       "<div style=\"height: 400px; width: 600px; overflow-x: auto; overflow-y: hidden; resize: both\">\n",
       "<iframe src=\"http://127.0.0.1:7017/static/\" style=\"width: 100%; height: 100%; border: none\"></iframe>\n",
       "</div>\n"
      ],
      "text/plain": [
       "<IPython.core.display.HTML object>"
      ]
     },
     "execution_count": 3,
     "metadata": {},
     "output_type": "execute_result"
    }
   ],
   "source": [
    "world = Node(\n",
    "    name=\"world (air)\",\n",
    "    geometry=Sphere(\n",
    "        radius=10.0,\n",
    "        material=Material(refractive_index=1.0)\n",
    "    )\n",
    ")\n",
    "scene = Scene(world)\n",
    "light = Light(\n",
    "    direction=functools.partial(cone, np.pi/4)\n",
    ")\n",
    "vis = MeshcatRenderer()\n",
    "vis.render(scene)\n",
    "for ray in light.emit(100):\n",
    "    steps = photon_tracer.follow(scene, ray)\n",
    "    path, decisions = zip(*steps)\n",
    "    vis.add_ray_path(path)\n",
    "vis.vis.jupyter_cell()"
   ]
  },
  {
   "cell_type": "markdown",
   "metadata": {},
   "source": [
    "## Samping positions\n",
    "\n",
    "A spatial mask defines allowed locations from which rays can be generated.\n",
    "\n",
    "```python\n",
    "Light(position=functools.partial(rectangular_mask, 1, 1))  # half side-length (x, y)\n",
    "Light(position=functools.partial(cube_mask, 1, 1, 1))  # half side-length (x, y, z)\n",
    "Light(position=functools.partial(circular_mask, 1))  # radius of the circle\n",
    "```\n",
    "\n",
    "`functools.partial` is used because these take arguments."
   ]
  },
  {
   "cell_type": "code",
   "execution_count": 8,
   "metadata": {},
   "outputs": [
    {
     "name": "stdout",
     "output_type": "stream",
     "text": [
      "You can open the visualizer by visiting the following URL:\n",
      "http://127.0.0.1:7022/static/\n"
     ]
    },
    {
     "data": {
      "text/html": [
       "\n",
       "<div style=\"height: 400px; width: 600px; overflow-x: auto; overflow-y: hidden; resize: both\">\n",
       "<iframe src=\"http://127.0.0.1:7022/static/\" style=\"width: 100%; height: 100%; border: none\"></iframe>\n",
       "</div>\n"
      ],
      "text/plain": [
       "<IPython.core.display.HTML object>"
      ]
     },
     "execution_count": 8,
     "metadata": {},
     "output_type": "execute_result"
    }
   ],
   "source": [
    "# Square emitter\n",
    "light = Light(position=functools.partial(square_mask, 1, 0.3))\n",
    "vis = MeshcatRenderer()\n",
    "vis.render(scene)\n",
    "for ray in light.emit(100):\n",
    "    steps = photon_tracer.follow(scene, ray)\n",
    "    path, decisions = zip(*steps)\n",
    "    vis.add_ray_path(path)\n",
    "vis.vis.jupyter_cell()"
   ]
  },
  {
   "cell_type": "markdown",
   "metadata": {},
   "source": [
    "## Any combination of position and divergence\n",
    "\n",
    "The power of the delegate approach is that, the angular and position delegates are independent, meaning that any combination is allowed and trivial to configure. In the example below we have used a cone divergence with a square mask\n",
    "\n",
    "```python\n",
    "Light(\n",
    "    position=position=functools.partial(square_mask, 1, 0.3),\n",
    "    direction=lambertian\n",
    ")\n",
    "```"
   ]
  },
  {
   "cell_type": "markdown",
   "metadata": {},
   "source": [
    "## Sampling a spectrum\n",
    "\n",
    "To sample wavelength from a spectrum use a `Distribution` object.\n",
    "\n",
    "Let's make an emission spectrum based on a Gaussian centred at 600nm. If you have experimental data you could import it as x, y column and use that instead."
   ]
  },
  {
   "cell_type": "code",
   "execution_count": 13,
   "metadata": {},
   "outputs": [
    {
     "data": {
      "image/png": "[encoded data removed]",
      "text/plain": [
       "<Figure size 432x288 with 1 Axes>"
      ]
     },
     "metadata": {
      "needs_background": "light"
     },
     "output_type": "display_data"
    }
   ],
   "source": [
    "def make_emission_spectrum(wavelengths):\n",
    "    return np.exp(-((wavelengths-600.0)/50.0)**2)\n",
    "x = np.linspace(400, 800)\n",
    "y = np.exp(-((x-600.0)/50.0)**2)\n",
    "plt.plot(x, y)\n",
    "plt.xlabel('Wavelength (nm)')\n",
    "plt.grid(linestyle='dotted')"
   ]
  },
  {
   "cell_type": "code",
   "execution_count": 11,
   "metadata": {},
   "outputs": [],
   "source": [
    "dist = Distribution(x, y)\n",
    "dist.sample(np.random.uniform())\n",
    "light = Light(\n",
    "    wavelength=lambda: dist.sample(np.random.uniform())\n",
    ")"
   ]
  },
  {
   "cell_type": "markdown",
   "metadata": {},
   "source": [
    "Emit 10000 rays and plot a histogram of the distribution of wavelengths against the input."
   ]
  },
  {
   "cell_type": "code",
   "execution_count": 12,
   "metadata": {},
   "outputs": [
    {
     "data": {
      "image/png": "[encoded data removed]",
      "text/plain": [
       "<Figure size 432x288 with 1 Axes>"
      ]
     },
     "metadata": {
      "needs_background": "light"
     },
     "output_type": "display_data"
    }
   ],
   "source": [
    "plt.hist([x.wavelength for x in list(light.emit(10000))], bins=20, density=True, histtype='step', label='sample')\n",
    "plt.plot(x, y/np.trapz(y, x), label='distribution')\n",
    "plt.legend()\n",
    "plt.xlabel(\"Wavelength (nm)\")\n",
    "plt.grid(linestyle='dotted')"
   ]
  }
 ],
 "metadata": {
  "kernelspec": {
   "display_name": "Python 3",
   "language": "python",
   "name": "python3"
  },
  "language_info": {
   "codemirror_mode": {
    "name": "ipython",
    "version": 3
   },
   "file_extension": ".py",
   "mimetype": "text/x-python",
   "name": "python",
   "nbconvert_exporter": "python",
   "pygments_lexer": "ipython3",
   "version": "3.7.2"
  }
 },
 "nbformat": 4,
 "nbformat_minor": 2
}
