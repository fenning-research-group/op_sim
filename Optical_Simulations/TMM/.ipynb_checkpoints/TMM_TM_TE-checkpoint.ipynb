{
 "cells": [
  {
   "cell_type": "markdown",
   "metadata": {},
   "source": [
    "# TMM for the TE And TM polarization only\n",
    "\n",
    "One thing which isn't super clear to me is the fact that in scattering matrices, if you consider off-normal incidence, the incoming ray has two ports, the reflected ray has two ports and likewise for the transmission side.\n",
    "\n",
    "The Maxwell's equations, typically formulated, is a 4x4 system of equations, but these don't actually correspond to the ports, do they\n",
    "\n",
    "### Significance of the transfer matrix\n",
    "The transfer matrix T is just a transfer function telling me how to map input amplitudes to output amplitudes. In dealing with homogeneous structures, the only inputs are plane waves and the only outputs are also plane waves.\n",
    "\n",
    "\\begin{equation}\n",
    "    \\begin{bmatrix}\n",
    "        T_{11} & T_{12}\\\\\n",
    "        T_{21} & T_{22}\n",
    "    \\end{bmatrix}\n",
    "\\end{equation}\n",
    "\n",
    "The transfer matrix, in effect, works the same as the scattering matrix (assuming the modes are sorted, which they trivially will be for the TE and TM case (since we only have a 2-by-2 matrix)"
   ]
  },
  {
   "cell_type": "code",
   "execution_count": 12,
   "metadata": {},
   "outputs": [],
   "source": [
    "import sys\n",
    "sys.path.append('../')\n",
    "from TMM_functions import PQ_matrices as pq\n",
    "from TMM_functions import scatter_matrices as sm\n",
    "from TMM_functions import redheffer_star as rs\n",
    "from TMM_functions import generate_initial_conditions as ic\n",
    "import numpy as np\n",
    "import matplotlib.pyplot as plt\n",
    "from numpy.linalg import cond\n",
    "import cmath;\n",
    "from scipy import linalg as LA\n",
    "from numpy.linalg import solve as bslash\n",
    "import time\n",
    "from convolution_matrices.convmat1D import *\n",
    "# from RCWA_1D_functions.grating_fft.grating_conv import *\n",
    "\n",
    "def nonHermitianEigenSorter(eigenvalues):\n",
    "    N = len(eigenvalues);\n",
    "    sorted_indices=[];\n",
    "    sorted_eigs = [];\n",
    "    for i in range(N):\n",
    "        eig = eigenvalues[i];\n",
    "        if(np.real(eig)>0 and np.imag(eig) == 0):\n",
    "            sorted_indices.append(i); sorted_eigs.append(eig);\n",
    "        elif(np.real(eig)==0 and np.imag(eig) > 0):\n",
    "            sorted_indices.append(i); sorted_eigs.append(eig);\n",
    "        elif(np.real(eig)>0 and abs(np.imag(eig)) > 0):\n",
    "            sorted_indices.append(i); sorted_eigs.append(eig);\n",
    "    return sorted_eigs, sorted_indices;\n",
    "\n",
    "# Moharam et. al Formulation for stable and efficient implementation for RCWA\n",
    "plt.close(\"all\")\n",
    "'''\n",
    "'''\n",
    "L0 = 1e-6;\n",
    "e0 = 8.854e-12;\n",
    "mu0 = 4*np.pi*1e-8;\n",
    "c0 = 1/np.sqrt(e0*mu0)\n",
    "\n",
    "n_ridge = 3.48;              # ridge\n",
    "n_groove = 3.48;                # groove (unit-less)\n",
    "lattice_constant = 0.7;  # SI units\n",
    "\n",
    "## simulation parameters\n",
    "theta = (0)*np.pi/180;\n",
    "phi = (0)*np.pi/180;\n",
    "e_r = 1;\n",
    "m_r = 1;\n",
    "e_t = 1;\n",
    "m_t = 1;\n",
    "n_i = np.sqrt(e_r);\n",
    "\n",
    "normal_vector= [0,0,-1]\n",
    "\n",
    "# epsilon_tensor = np.array([[12,1,0],[0,2,0],[1,0,12]]);\n",
    "# epsilon_tensor = np.array([[12,10,0],[10,12,0],[0,0,2]]);\n",
    "# epsilon_tensor = np.array([[12,5,0],[5,12,0],[0,0,12]]);\n",
    "# epsilon_tensor = np.array([[12,1,0],[0,2,0],[1,0,12]]);\n",
    "\n",
    "epsilon_tensor = np.array([[12,0,10],[0,12,0],[10,0,12]]);\n",
    "## if the exy eyx term is equal to exx eyy, then there is a degeneracy which you have to account for.\n",
    "epsilon_tensor = np.array([[12,0,0],[0,12,5],[0,10,12]]);\n",
    "\n",
    "mu_tensor = np.array([[1,0,0],[0,1,0],[0,0,1]])\n",
    "I = np.matrix(np.eye(2))\n",
    "\n",
    "## specify the initial kx and ky\n",
    "k0=1\n",
    "kx = k0 *np.sin(theta)*np.cos(phi);\n"
   ]
  },
  {
   "cell_type": "code",
   "execution_count": null,
   "metadata": {},
   "outputs": [],
   "source": []
  },
  {
   "cell_type": "code",
   "execution_count": 13,
   "metadata": {},
   "outputs": [],
   "source": [
    "## =================== specify initial conditions ================== ##\n",
    "# c+ and c- are now one dimensional.\n",
    "cref = np.array([1,1]); #incident light"
   ]
  },
  {
   "cell_type": "code",
   "execution_count": 14,
   "metadata": {},
   "outputs": [
    {
     "name": "stdout",
     "output_type": "stream",
     "text": [
      "[[ 0. -1.]\n",
      " [-1.  0.]]\n",
      "[[ 0.70710678  0.70710678]\n",
      " [-0.70710678  0.70710678]]\n"
     ]
    }
   ],
   "source": [
    "## vacuum\n",
    "a12 = -1;\n",
    "a21 = kx**2/1 -1\n",
    "A0 = np.matrix([[0, a12],\n",
    "                  [a21, 0]]);\n",
    "print(A0)\n",
    "lam0, W0 = np.linalg.eig(A0); #this is W\n",
    "print(W0)"
   ]
  },
  {
   "cell_type": "markdown",
   "metadata": {},
   "source": [
    "## DOING TMM for the TE and TM polarization using Scattering Matrices\n",
    "Now, we only have one transverse E and H component. The first thing to note is how are they related? (should be with a dz factor)\n",
    "\n",
    "### Important Questions to Answer\n",
    "Why do we need an eigenmode decomposition in the general case (especially since analytically, we don't need to do that)"
   ]
  },
  {
   "cell_type": "code",
   "execution_count": 15,
   "metadata": {},
   "outputs": [
    {
     "name": "stdout",
     "output_type": "stream",
     "text": [
      "[[-0.97466986+0.22364851j  0.        +0.j        ]\n",
      " [ 0.        +0.j         -0.97466986-0.22364851j]]\n",
      "[[0.09198012+0.99576084j 0.        +0.j        ]\n",
      " [0.        +0.j         0.09198012-0.99576084j]]\n",
      "[[0.97602508+0.21765809j 0.        +0.j        ]\n",
      " [0.        +0.j         0.97602508-0.21765809j]]\n",
      "[[0.62712299-0.77892025j 0.        +0.j        ]\n",
      " [0.        +0.j         0.62712299+0.77892025j]]\n",
      "[[-0.30684896-0.95175822j  0.        +0.j        ]\n",
      " [ 0.        +0.j         -0.30684896+0.95175822j]]\n",
      "[[-0.93138898-0.36402552j  0.        +0.j        ]\n",
      " [ 0.        +0.j         -0.93138898+0.36402552j]]\n",
      "[[-0.91073385+0.41299378j  0.        +0.j        ]\n",
      " [ 0.        +0.j         -0.91073385-0.41299378j]]\n",
      "[[-0.40981348+0.91216934j  0.        +0.j        ]\n",
      " [ 0.        +0.j         -0.40981348-0.91216934j]]\n",
      "[[0.23310795+0.97245087j 0.        +0.j        ]\n",
      " [0.        +0.j         0.23310795-0.97245087j]]\n",
      "[[0.74194828+0.67045712j 0.        +0.j        ]\n",
      " [0.        +0.j         0.74194828-0.67045712j]]\n",
      "[[0.98314026+0.18285304j 0.        +0.j        ]\n",
      " [0.        +0.j         0.98314026-0.18285304j]]\n",
      "[[0.94821604-0.31762611j 0.        +0.j        ]\n",
      " [0.        +0.j         0.94821604+0.31762611j]]\n",
      "[[0.70274915-0.71143773j 0.        +0.j        ]\n",
      " [0.        +0.j         0.70274915+0.71143773j]]\n",
      "[[0.33861532-0.9409249j 0.        +0.j       ]\n",
      " [0.        +0.j        0.33861532+0.9409249j]]\n",
      "[[-0.05750374-0.99834529j  0.        +0.j        ]\n",
      " [ 0.        +0.j         -0.05750374+0.99834529j]]\n",
      "[[-0.41946905-0.90776964j  0.        +0.j        ]\n",
      " [ 0.        +0.j         -0.41946905+0.90776964j]]\n",
      "[[-0.70560894-0.70860146j  0.        +0.j        ]\n",
      " [ 0.        +0.j         -0.70560894+0.70860146j]]\n",
      "[[-0.89623153-0.44358656j  0.        +0.j        ]\n",
      " [ 0.        +0.j         -0.89623153+0.44358656j]]\n",
      "[[-0.9884577-0.1514971j  0.       +0.j       ]\n",
      " [ 0.       +0.j        -0.9884577+0.1514971j]]\n",
      "[[-0.99064733+0.13644734j  0.        +0.j        ]\n",
      " [ 0.        +0.j         -0.99064733-0.13644734j]]\n",
      "[[-0.91755676+0.39760481j  0.        +0.j        ]\n",
      " [ 0.        +0.j         -0.91755676-0.39760481j]]\n",
      "[[-0.78663643+0.61741649j  0.        +0.j        ]\n",
      " [ 0.        +0.j         -0.78663643-0.61741649j]]\n",
      "[[-0.61547563+0.78815592j  0.        +0.j        ]\n",
      " [ 0.        +0.j         -0.61547563-0.78815592j]]\n",
      "[[-0.42021862+0.9074229j  0.        +0.j       ]\n",
      " [ 0.        +0.j        -0.42021862-0.9074229j]]\n",
      "[[-0.21472138+0.97667534j  0.        +0.j        ]\n",
      " [ 0.        +0.j         -0.21472138-0.97667534j]]\n",
      "[[-0.01022857+0.99994769j  0.        +0.j        ]\n",
      " [ 0.        +0.j         -0.01022857-0.99994769j]]\n",
      "[[0.18461179+0.98281152j 0.        +0.j        ]\n",
      " [0.        +0.j         0.18461179-0.98281152j]]\n",
      "[[0.36353457+0.93158071j 0.        +0.j        ]\n",
      " [0.        +0.j         0.36353457-0.93158071j]]\n",
      "[[0.52234311+0.85273541j 0.        +0.j        ]\n",
      " [0.        +0.j         0.52234311-0.85273541j]]\n",
      "[[0.6585598+0.7525284j 0.       +0.j       ]\n",
      " [0.       +0.j        0.6585598-0.7525284j]]\n",
      "[[0.77108246+0.6367353j 0.        +0.j       ]\n",
      " [0.        +0.j        0.77108246-0.6367353j]]\n",
      "[[0.85986971+0.51051355j 0.        +0.j        ]\n",
      " [0.        +0.j         0.85986971-0.51051355j]]\n",
      "[[0.92566666+0.3783401j 0.        +0.j       ]\n",
      " [0.        +0.j        0.92566666-0.3783401j]]\n",
      "[[0.96977425+0.24400389j 0.        +0.j        ]\n",
      " [0.        +0.j         0.96977425-0.24400389j]]\n",
      "[[0.9938612+0.11063417j 0.       +0.j        ]\n",
      " [0.       +0.j         0.9938612-0.11063417j]]\n",
      "[[0.99981472-0.0192491j 0.        +0.j       ]\n",
      " [0.        +0.j        0.99981472+0.0192491j]]\n",
      "[[0.9896252-0.14367314j 0.       +0.j        ]\n",
      " [0.       +0.j         0.9896252+0.14367314j]]\n",
      "[[0.96529946-0.26114546j 0.        +0.j        ]\n",
      " [0.        +0.j         0.96529946+0.26114546j]]\n",
      "[[0.92879771-0.37058712j 0.        +0.j        ]\n",
      " [0.        +0.j         0.92879771+0.37058712j]]\n",
      "[[0.88198941-0.47126922j 0.        +0.j        ]\n",
      " [0.        +0.j         0.88198941+0.47126922j]]\n",
      "[[0.82662426-0.56275424j 0.        +0.j        ]\n",
      " [0.        +0.j         0.82662426+0.56275424j]]\n",
      "[[0.76431473-0.64484338j 0.        +0.j        ]\n",
      " [0.        +0.j         0.76431473+0.64484338j]]\n",
      "[[0.69652747-0.71753012j 0.        +0.j        ]\n",
      " [0.        +0.j         0.69652747+0.71753012j]]\n",
      "[[0.62458118-0.78095989j 0.        +0.j        ]\n",
      " [0.        +0.j         0.62458118+0.78095989j]]\n",
      "[[0.54964923-0.83539555j 0.        +0.j        ]\n",
      " [0.        +0.j         0.54964923+0.83539555j]]\n",
      "[[0.47276556-0.88118825j 0.        +0.j        ]\n",
      " [0.        +0.j         0.47276556+0.88118825j]]\n",
      "[[0.39483266-0.91875305j 0.        +0.j        ]\n",
      " [0.        +0.j         0.39483266+0.91875305j]]\n",
      "[[0.31663098-0.9485488j 0.        +0.j       ]\n",
      " [0.        +0.j        0.31663098+0.9485488j]]\n",
      "[[0.23882886-0.97106168j 0.        +0.j        ]\n",
      " [0.        +0.j         0.23882886+0.97106168j]]\n",
      "[[0.16199277-0.98679194j 0.        +0.j        ]\n",
      " [0.        +0.j         0.16199277+0.98679194j]]\n",
      "[[0.0865974-0.99624339j 0.       +0.j        ]\n",
      " [0.       +0.j         0.0865974+0.99624339j]]\n",
      "[[0.01303531-0.99991504j 0.        +0.j        ]\n",
      " [0.        +0.j         0.01303531+0.99991504j]]\n",
      "[[-0.05837382-0.99829479j  0.        +0.j        ]\n",
      " [ 0.        +0.j         -0.05837382+0.99829479j]]\n",
      "[[-0.12737468-0.99185467j  0.        +0.j        ]\n",
      " [ 0.        +0.j         -0.12737468+0.99185467j]]\n",
      "[[-0.19376838-0.9810473j  0.        +0.j       ]\n",
      " [ 0.        +0.j        -0.19376838+0.9810473j]]\n",
      "[[-0.25740524-0.96630355j  0.        +0.j        ]\n",
      " [ 0.        +0.j         -0.25740524+0.96630355j]]\n",
      "[[-0.31817822-0.94803092j  0.        +0.j        ]\n",
      " [ 0.        +0.j         -0.31817822+0.94803092j]]\n",
      "[[-0.37601703-0.92661275j  0.        +0.j        ]\n",
      " [ 0.        +0.j         -0.37601703+0.92661275j]]\n",
      "[[-0.43088285-0.90240787j  0.        +0.j        ]\n",
      " [ 0.        +0.j         -0.43088285+0.90240787j]]\n",
      "[[-0.48276358-0.87575072j  0.        +0.j        ]\n",
      " [ 0.        +0.j         -0.48276358+0.87575072j]]\n",
      "[[-0.53166971-0.84695178j  0.        +0.j        ]\n",
      " [ 0.        +0.j         -0.53166971+0.84695178j]]\n",
      "[[-0.57763063-0.81629827j  0.        +0.j        ]\n",
      " [ 0.        +0.j         -0.57763063+0.81629827j]]\n",
      "[[-0.62069136-0.784055j  0.        +0.j      ]\n",
      " [ 0.        +0.j       -0.62069136+0.784055j]]\n",
      "[[-0.66090976-0.75046538j  0.        +0.j        ]\n",
      " [ 0.        +0.j         -0.66090976+0.75046538j]]\n",
      "[[-0.69835405-0.71575249j  0.        +0.j        ]\n",
      " [ 0.        +0.j         -0.69835405+0.71575249j]]\n",
      "[[-0.73310063-0.68012018j  0.        +0.j        ]\n",
      " [ 0.        +0.j         -0.73310063+0.68012018j]]\n",
      "[[-0.76523229-0.64375425j  0.        +0.j        ]\n",
      " [ 0.        +0.j         -0.76523229+0.64375425j]]\n",
      "[[-0.79483656-0.60682357j  0.        +0.j        ]\n",
      " [ 0.        +0.j         -0.79483656+0.60682357j]]\n",
      "[[-0.82200437-0.56948118j  0.        +0.j        ]\n",
      " [ 0.        +0.j         -0.82200437+0.56948118j]]\n",
      "[[-0.84682887-0.53186546j  0.        +0.j        ]\n",
      " [ 0.        +0.j         -0.84682887+0.53186546j]]\n",
      "[[-0.86940444-0.49410113j  0.        +0.j        ]\n",
      " [ 0.        +0.j         -0.86940444+0.49410113j]]\n",
      "[[-0.88982586-0.45630026j  0.        +0.j        ]\n",
      " [ 0.        +0.j         -0.88982586+0.45630026j]]\n",
      "[[-0.90818762-0.41856331j  0.        +0.j        ]\n",
      " [ 0.        +0.j         -0.90818762+0.41856331j]]\n",
      "[[-0.9245833-0.38097995j  0.       +0.j        ]\n",
      " [ 0.       +0.j         -0.9245833+0.38097995j]]\n",
      "[[-0.93910512-0.34362998j  0.        +0.j        ]\n",
      " [ 0.        +0.j         -0.93910512+0.34362998j]]\n",
      "[[-0.95184356-0.30658416j  0.        +0.j        ]\n",
      " [ 0.        +0.j         -0.95184356+0.30658416j]]\n",
      "[[-0.96288698-0.2699049j  0.        +0.j       ]\n",
      " [ 0.        +0.j        -0.96288698+0.2699049j]]\n",
      "[[-0.97232148-0.23364703j  0.        +0.j        ]\n",
      " [ 0.        +0.j         -0.97232148+0.23364703j]]\n",
      "[[-0.9802306-0.19785844j  0.       +0.j        ]\n",
      " [ 0.       +0.j         -0.9802306+0.19785844j]]\n",
      "[[-0.98669525-0.16258068j  0.        +0.j        ]\n",
      " [ 0.        +0.j         -0.98669525+0.16258068j]]\n",
      "[[-0.99179357-0.12784955j  0.        +0.j        ]\n",
      " [ 0.        +0.j         -0.99179357+0.12784955j]]\n",
      "[[-0.99560089-0.0936956j  0.        +0.j       ]\n",
      " [ 0.        +0.j        -0.99560089+0.0936956j]]\n",
      "[[-0.99818967-0.06014464j  0.        +0.j        ]\n",
      " [ 0.        +0.j         -0.99818967+0.06014464j]]\n",
      "[[-0.99962952-0.02721817j  0.        +0.j        ]\n",
      " [ 0.        +0.j         -0.99962952+0.02721817j]]\n",
      "[[-0.99998717+0.00506622j  0.        +0.j        ]\n",
      " [ 0.        +0.j         -0.99998717-0.00506622j]]\n",
      "[[-0.99932653+0.03669444j  0.        +0.j        ]\n",
      " [ 0.        +0.j         -0.99932653-0.03669444j]]\n",
      "[[-0.99770874+0.06765556j  0.        +0.j        ]\n",
      " [ 0.        +0.j         -0.99770874-0.06765556j]]\n",
      "[[-0.99519217+0.09794154j  0.        +0.j        ]\n",
      " [ 0.        +0.j         -0.99519217-0.09794154j]]\n",
      "[[-0.99183254+0.12754687j  0.        +0.j        ]\n",
      " [ 0.        +0.j         -0.99183254-0.12754687j]]\n",
      "[[-0.98768298+0.15646833j  0.        +0.j        ]\n",
      " [ 0.        +0.j         -0.98768298-0.15646833j]]\n",
      "[[-0.98279405+0.18470478j  0.        +0.j        ]\n",
      " [ 0.        +0.j         -0.98279405-0.18470478j]]\n",
      "[[-0.9772139+0.21225689j  0.       +0.j        ]\n",
      " [ 0.       +0.j         -0.9772139-0.21225689j]]\n",
      "[[-0.97098831+0.23912695j  0.        +0.j        ]\n",
      " [ 0.        +0.j         -0.97098831-0.23912695j]]\n",
      "[[-0.96416077+0.26531871j  0.        +0.j        ]\n",
      " [ 0.        +0.j         -0.96416077-0.26531871j]]\n",
      "[[-0.95677257+0.29083716j  0.        +0.j        ]\n",
      " [ 0.        +0.j         -0.95677257-0.29083716j]]\n",
      "[[-0.9488629+0.31568845j  0.       +0.j        ]\n",
      " [ 0.       +0.j         -0.9488629-0.31568845j]]\n",
      "[[-0.94046893+0.33987969j  0.        +0.j        ]\n",
      " [ 0.        +0.j         -0.94046893-0.33987969j]]\n",
      "[[-0.93162587+0.36341882j  0.        +0.j        ]\n",
      " [ 0.        +0.j         -0.93162587-0.36341882j]]\n",
      "[[-0.9223671+0.38631456j  0.       +0.j        ]\n",
      " [ 0.       +0.j         -0.9223671-0.38631456j]]\n",
      "[[-0.9127242+0.40857623j  0.       +0.j        ]\n",
      " [ 0.       +0.j         -0.9127242-0.40857623j]]\n"
     ]
    }
   ],
   "source": [
    "ref = [];\n",
    "trans = []\n",
    "wvlen_scan = np.linspace(0.5, 4, 100);\n",
    "thickness = 0.5; # 1 layer\n",
    "E0 = 1;\n",
    "for wvlen in wvlen_scan:\n",
    "    k0 = 2*np.pi/wvlen;\n",
    "    omega = c0*k0;\n",
    "    kx = np.sin(theta)*np.cos(phi);\n",
    "    # we will build the system by rows?\n",
    "    a11 = -1j*(kx*(epsilon_tensor[2,0]/epsilon_tensor[2,2]))\n",
    "    a12 = -epsilon_tensor[0,0] + epsilon_tensor[0,2]*epsilon_tensor[2,0]/epsilon_tensor[2,2]\n",
    "    a21 = kx**2/epsilon_tensor[2,2] -1\n",
    "    a22 = 1j*kx*epsilon_tensor[2,0]/epsilon_tensor[2,2];\n",
    "    \n",
    "    A = np.matrix([[a11, a12],\n",
    "                  [a21, a22]]);\n",
    "    #print(np.linalg.cond(A))\n",
    "    eigenvals, eigenmodes = np.linalg.eig(A); #this is W\n",
    "    rounded_eigenvals = np.round(eigenvals, 3)    \n",
    "    propagation_phase = np.diag(np.exp(1j*eigenvals*k0*thickness)); #we shouldn't have to scale by 1j...theoretically\n",
    "    print(propagation_phase); #one is huge, and one is small....\n",
    "    #print(propagation_phase.shape)\n",
    "#     plt.plot(np.real(rounded_eigenvals), np.imag(rounded_eigenvals), 'o')\n",
    "#     plt.show()\n",
    "    \n",
    "    ## need Wref and Wtran\n",
    "    kz0 = np.sqrt(omega**2-kx**2)\n",
    "    \n",
    "    W1 = eigenmodes;\n",
    "    ## compute transfer matrix;\n",
    "    T = np.linalg.inv(W0)@W1@propagation_phase;\n",
    "    ## process the coefficients\n",
    "    #print(T)\n",
    "    ## convert ctran into a transmission\n",
    "    # what about reflection? (typically, we derived these from the scattering matrix)\n",
    "    Er = T[0,0]*E0\n",
    "    Et = T[0,1]*E0; #only one out of plane component so we don't need to recover any additional components\n",
    "    \n",
    "    r = np.linalg.norm(Er);\n",
    "    t = np.linalg.norm(Et);\n",
    "    ref.append(r);\n",
    "    trans.append(t);\n",
    "\n",
    "    \n",
    "ref = np.array(ref);\n",
    "trans = np.array(trans);"
   ]
  },
  {
   "cell_type": "code",
   "execution_count": 16,
   "metadata": {},
   "outputs": [
    {
     "data": {
      "text/plain": [
       "[<matplotlib.lines.Line2D at 0x23514dd65c0>]"
      ]
     },
     "execution_count": 16,
     "metadata": {},
     "output_type": "execute_result"
    },
    {
     "data": {
      "image/png": "[encoded data removed]",
      "text/plain": [
       "<Figure size 432x288 with 1 Axes>"
      ]
     },
     "metadata": {
      "needs_background": "light"
     },
     "output_type": "display_data"
    }
   ],
   "source": [
    "plt.figure();\n",
    "plt.plot(ref);\n",
    "plt.plot(trans)"
   ]
  },
  {
   "cell_type": "code",
   "execution_count": 6,
   "metadata": {},
   "outputs": [
    {
     "data": {
      "text/plain": [
       "array([[-0.97466986+0.22364851j,  0.        +0.j        ],\n",
       "       [ 0.        +0.j        , -0.97466986-0.22364851j]])"
      ]
     },
     "execution_count": 6,
     "metadata": {},
     "output_type": "execute_result"
    }
   ],
   "source": [
    "propagation_phase"
   ]
  },
  {
   "cell_type": "code",
   "execution_count": 7,
   "metadata": {},
   "outputs": [
    {
     "name": "stdout",
     "output_type": "stream",
     "text": [
      "[ 3.46410162-0.j -3.46410162+0.j]\n"
     ]
    }
   ],
   "source": [
    "print(eigenvals)"
   ]
  },
  {
   "cell_type": "code",
   "execution_count": 8,
   "metadata": {},
   "outputs": [
    {
     "ename": "NameError",
     "evalue": "name 'T' is not defined",
     "output_type": "error",
     "traceback": [
      "\u001b[1;31m---------------------------------------------------------------------------\u001b[0m",
      "\u001b[1;31mNameError\u001b[0m                                 Traceback (most recent call last)",
      "\u001b[1;32m<ipython-input-8-7d0fa1f84bbd>\u001b[0m in \u001b[0;36m<module>\u001b[1;34m\u001b[0m\n\u001b[1;32m----> 1\u001b[1;33m \u001b[0mprint\u001b[0m\u001b[1;33m(\u001b[0m\u001b[0mT\u001b[0m\u001b[1;33m)\u001b[0m\u001b[1;33m\u001b[0m\u001b[0m\n\u001b[0m",
      "\u001b[1;31mNameError\u001b[0m: name 'T' is not defined"
     ]
    }
   ],
   "source": [
    "print(T)"
   ]
  },
  {
   "cell_type": "markdown",
   "metadata": {},
   "source": [
    "## Check with Analytic Form\n",
    "\n",
    "The analytic form of TMM appears to be analytic and stable (for TE and TM, but why is that?)\n",
    "This analytic form is also derived very simply by matching coefficients it appears. There is no matrix inversion or analysis of modes or anything in the analytic forms..."
   ]
  },
  {
   "cell_type": "code",
   "execution_count": 44,
   "metadata": {},
   "outputs": [
    {
     "data": {
      "image/png": "[encoded data removed]",
      "text/plain": [
       "<Figure size 432x288 with 1 Axes>"
      ]
     },
     "metadata": {
      "needs_background": "light"
     },
     "output_type": "display_data"
    }
   ],
   "source": [
    "er = 12;\n",
    "mur = 1;\n",
    "\n",
    "def transfer_matrix(k,L, er, mu): ## this is the TE polarization\n",
    "    Zc = 1/k; #np.sqrt(mu/er);\n",
    "    M = np.array([[np.cos(k*L), 1*Zc*np.sin(k*L)],\\\n",
    "                  [(-1/Zc)*np.sin(k*L), np.cos(k*L)]], dtype = 'complex')\n",
    "    return M;\n",
    "\n",
    "def RT(M, kL, kR):\n",
    "    '''\n",
    "    kL: k of incident\n",
    "    kR: k of transmission medium\n",
    "    '''\n",
    "    denominator = (-M[1,0]+kL*kR*M[0,1])+1j*(kL*M[1,1]+kR*M[0,0])\n",
    "    r = ((M[1,0]+ kL*kR*M[0,1]) + 1j*(kL*M[1,1] - kR*M[0,0]))/denominator;\n",
    "    \n",
    "    t = 2j*kL*np.exp(-1j*kR*L)/denominator;\n",
    "    return r,t;\n",
    "\n",
    "\n",
    "L = 0.5; #layer thickness\n",
    "wvlen_scan = np.linspace(0.5, 2, 301)\n",
    "spectra = [];\n",
    "for wvlen in wvlen_scan:\n",
    "    k = 2*np.pi/wvlen;\n",
    "    #in the medium\n",
    "    kprime = np.sqrt(er)*k;\n",
    "    M1 = transfer_matrix(kprime,L, er, mur)\n",
    "    M2 = transfer_matrix(2*k, L, 4, 1);\n",
    "    M = M1@M2;\n",
    "    #assume a structure with air for reflection and transmission methods\n",
    "    r, t = RT(M, k, k)\n",
    "   \n",
    "    R = abs(r)**2; T = abs(t)**2;\n",
    "    spectra.append([R,T])\n",
    "spectra = np.array(spectra)\n",
    "\n",
    "plt.plot(wvlen_scan, spectra)\n",
    "plt.show()\n"
   ]
  },
  {
   "cell_type": "markdown",
   "metadata": {},
   "source": [
    "## Check with the Impedance Transformation\n",
    "FROM EE236, the impedance transform starts at the transmission layer and then moves back up to the reflection region"
   ]
  },
  {
   "cell_type": "code",
   "execution_count": 47,
   "metadata": {},
   "outputs": [],
   "source": [
    "def impedanceTransformer(Z_0, Z0, kz, z):\n",
    "    return Z_0 * (Z0 - 1j*Z_0*np.tan(kz*z))/(Z_0 - 1j*Z0*np.tan(kz*z));\n"
   ]
  },
  {
   "cell_type": "code",
   "execution_count": 54,
   "metadata": {},
   "outputs": [
    {
     "data": {
      "image/png": "[encoded data removed]",
      "text/plain": [
       "<Figure size 432x288 with 1 Axes>"
      ]
     },
     "metadata": {
      "needs_background": "light"
     },
     "output_type": "display_data"
    }
   ],
   "source": [
    "## single layer\n",
    "Z_0 = np.sqrt(mur/er);\n",
    "Z0 = 1;\n",
    "\n",
    "spectra = [];\n",
    "L= 0.5;\n",
    "for wvlen in wvlen_scan:\n",
    "    kz = 2*np.pi/wvlen;\n",
    "    Gamma_ref = (impedanceTransformer(Z_0, Z0, kz, L) - Z0)/(impedanceTransformer(Z_0, Z0, kz, L) + Z0);\n",
    "    spectra.append(abs(Gamma_ref)**2);\n",
    "\n",
    "spectra = np.array(spectra);\n",
    "plt.plot(wvlen_scan, spectra);\n",
    "plt.plot(wvlen_scan, 1-spectra);\n",
    "plt.show();"
   ]
  },
  {
   "cell_type": "code",
   "execution_count": null,
   "metadata": {},
   "outputs": [],
   "source": []
  }
 ],
 "metadata": {
  "kernelspec": {
   "display_name": "Python 3",
   "language": "python",
   "name": "python3"
  },
  "language_info": {
   "codemirror_mode": {
    "name": "ipython",
    "version": 3
   },
   "file_extension": ".py",
   "mimetype": "text/x-python",
   "name": "python",
   "nbconvert_exporter": "python",
   "pygments_lexer": "ipython3",
   "version": "3.6.3"
  }
 },
 "nbformat": 4,
 "nbformat_minor": 2
}
